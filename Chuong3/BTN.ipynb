{
 "cells": [
  {
   "attachments": {},
   "cell_type": "markdown",
   "metadata": {},
   "source": [
    "# IF"
   ]
  },
  {
   "attachments": {},
   "cell_type": "markdown",
   "metadata": {},
   "source": [
    "### 34"
   ]
  },
  {
   "cell_type": "code",
   "execution_count": 2,
   "metadata": {},
   "outputs": [
    {
     "name": "stdout",
     "output_type": "stream",
     "text": [
      "Số chẵn\n"
     ]
    }
   ],
   "source": [
    "n = int(input('Nhập số: '))\n",
    "\n",
    "if n % 2 == 0:\n",
    "    print('Số chẵn')\n",
    "else:\n",
    "    print('Số lẻ')"
   ]
  },
  {
   "attachments": {},
   "cell_type": "markdown",
   "metadata": {},
   "source": [
    "### 35"
   ]
  },
  {
   "cell_type": "code",
   "execution_count": null,
   "metadata": {},
   "outputs": [],
   "source": [
    "n = int(input('Nhập tuổi : '))"
   ]
  },
  {
   "attachments": {},
   "cell_type": "markdown",
   "metadata": {},
   "source": [
    "### 36"
   ]
  },
  {
   "cell_type": "code",
   "execution_count": 10,
   "metadata": {},
   "outputs": [
    {
     "name": "stdout",
     "output_type": "stream",
     "text": [
      "Nguyên âm\n"
     ]
    }
   ],
   "source": [
    "n = input('Nhập chữ cái: ')\n",
    "\n",
    "if n == 'a' or  n == 'e' or  n == 'o' or  n == 'i' or  n == 'u':\n",
    "    print('Nguyên âm')\n",
    "elif  n == 'y':\n",
    "    print('Vừa là nguyên âm vừa là phụ âm')\n",
    "else:\n",
    "    print('Phụ âm')"
   ]
  },
  {
   "attachments": {},
   "cell_type": "markdown",
   "metadata": {},
   "source": [
    "### 37"
   ]
  },
  {
   "cell_type": "code",
   "execution_count": 12,
   "metadata": {},
   "outputs": [
    {
     "name": "stdout",
     "output_type": "stream",
     "text": [
      "Không hợp lệ\n"
     ]
    }
   ],
   "source": [
    "n = int(input('Nhập số cạnh: '))\n",
    "\n",
    "if n == 3:\n",
    "    print('Hình tam giác')\n",
    "elif n == 4:\n",
    "    print('Hình tư giác')\n",
    "elif n == 5:\n",
    "    print('Hình ngũ giác')\n",
    "elif n == 6:\n",
    "    print('Hình lục giác')\n",
    "elif n == 7:\n",
    "    print('Hình thất giác')\n",
    "elif n == 8:\n",
    "    print('Hình bát giác')\n",
    "elif n == 9:\n",
    "    print('Hình cửu giác')\n",
    "elif n == 10:\n",
    "    print('Hình thập giác')\n",
    "else:\n",
    "    print('Không hợp lệ')\n"
   ]
  },
  {
   "attachments": {},
   "cell_type": "markdown",
   "metadata": {},
   "source": [
    "### 38"
   ]
  },
  {
   "cell_type": "code",
   "execution_count": 13,
   "metadata": {},
   "outputs": [
    {
     "name": "stdout",
     "output_type": "stream",
     "text": [
      "Tiếng ồn nằm giữa căn phòng yên lặng và đồng hồ báo thức\n"
     ]
    }
   ],
   "source": []
  },
  {
   "attachments": {},
   "cell_type": "markdown",
   "metadata": {},
   "source": [
    "### 39"
   ]
  },
  {
   "cell_type": "code",
   "execution_count": 17,
   "metadata": {},
   "outputs": [
    {
     "name": "stdout",
     "output_type": "stream",
     "text": [
      "Tiếng ồn nằm giữa căn phòng yên lặng và đồng hồ báo thức\n"
     ]
    }
   ],
   "source": [
    "n = int(input('Nhập mức decibel: '))\n",
    "\n",
    "if n < 40:\n",
    "    print ('Căn phòng rất yên lặng')\n",
    "elif n == 40:\n",
    "    print('Căn phòng yên lặng')\n",
    "elif 40 < n < 70:\n",
    "    print('Tiếng ồn nằm giữa căn phòng yên lặng và đồng hồ báo thức')\n",
    "elif n == 70:\n",
    "    print('Đồng hồ báo thức')\n",
    "elif 70 < n < 106:\n",
    "    print('Tiếng ồn nằm giữa đồng hô báo thức và máy cắt cỏ chạy xăng')\n",
    "elif n == 106:\n",
    "    print('Máy cắt cỏ chạy xăng')\n",
    "elif 106 < n < 130:\n",
    "    print('Tiếng ồn nằm giữa máy cắt cỏ chạy xăng và búa khoan')\n",
    "elif n == 130:\n",
    "    print('Búa khoan')\n",
    "elif n < 130:\n",
    "    print('Rất ồn')"
   ]
  },
  {
   "attachments": {},
   "cell_type": "markdown",
   "metadata": {},
   "source": [
    "### 40"
   ]
  },
  {
   "cell_type": "code",
   "execution_count": 18,
   "metadata": {},
   "outputs": [
    {
     "name": "stdout",
     "output_type": "stream",
     "text": [
      "Tam giác thường\n"
     ]
    }
   ],
   "source": [
    "a = int(input('Nhập độ dài cạnh: '))\n",
    "b = int(input('Nhập độ dài cạnh: '))\n",
    "c = int(input('Nhập độ dài cạnh: '))\n",
    "\n",
    "if (a == b) and (a == c) and (b == c):\n",
    "    print ('Tam giác đều')\n",
    "elif (a==b) or (a == c) or (b == c):\n",
    "    print ('Tam giác cân')\n",
    "else:\n",
    "    print('Tam giác thường')"
   ]
  },
  {
   "attachments": {},
   "cell_type": "markdown",
   "metadata": {},
   "source": [
    "### 41"
   ]
  },
  {
   "cell_type": "code",
   "execution_count": null,
   "metadata": {},
   "outputs": [],
   "source": [
    "n = int(input('Nhập số: '))"
   ]
  },
  {
   "attachments": {},
   "cell_type": "markdown",
   "metadata": {},
   "source": [
    "### 42"
   ]
  },
  {
   "cell_type": "code",
   "execution_count": null,
   "metadata": {},
   "outputs": [],
   "source": [
    "n = int(input('Nhập số: '))"
   ]
  },
  {
   "attachments": {},
   "cell_type": "markdown",
   "metadata": {},
   "source": [
    "### 43"
   ]
  },
  {
   "cell_type": "code",
   "execution_count": null,
   "metadata": {},
   "outputs": [],
   "source": [
    "n = input('Nhập số tiền: ')\n",
    "\n",
    "if n == '$1':\n",
    "    print('GeorgeWashington')\n",
    "elif n == '$2':\n",
    "    print('Thomas Jefferson')\n",
    "elif n == '$3':\n",
    "    print('Abraham Lincoln')\n",
    "elif n == '$4':\n",
    "    print('Alexander Hamilton')\n",
    "elif n == '$5':\n",
    "    print('Andrew Jackson')\n",
    "elif n == '$6':\n",
    "    print('Ulysses S.Grant')\n",
    "elif n == '$7':\n",
    "    print('Benjamin Franklin')"
   ]
  },
  {
   "attachments": {},
   "cell_type": "markdown",
   "metadata": {},
   "source": [
    "### 44"
   ]
  },
  {
   "cell_type": "code",
   "execution_count": 20,
   "metadata": {},
   "outputs": [
    {
     "name": "stdout",
     "output_type": "stream",
     "text": [
      "Không được nghỉ\n"
     ]
    }
   ],
   "source": [
    "a = int(input('Nhập ngày: '))\n",
    "b = int(input('Nhập tháng: '))\n",
    "\n",
    "if a == 1 and b == 1:\n",
    "    print('Ngày đầu năm')\n",
    "elif a == 1 and b == 7:\n",
    "    print('Ngày Canada')\n",
    "elif a == 25 and b == 12:\n",
    "    print('Ngày Giáng Sinh')\n",
    "else:\n",
    "    print('Không được nghỉ')"
   ]
  },
  {
   "cell_type": "code",
   "execution_count": null,
   "metadata": {},
   "outputs": [],
   "source": []
  }
 ],
 "metadata": {
  "kernelspec": {
   "display_name": "Python 3",
   "language": "python",
   "name": "python3"
  },
  "language_info": {
   "codemirror_mode": {
    "name": "ipython",
    "version": 3
   },
   "file_extension": ".py",
   "mimetype": "text/x-python",
   "name": "python",
   "nbconvert_exporter": "python",
   "pygments_lexer": "ipython3",
   "version": "3.11.1"
  },
  "orig_nbformat": 4,
  "vscode": {
   "interpreter": {
    "hash": "108095e740c160118120ad5e22811b4aca9f414a6f3c55c969835bc2c10848d1"
   }
  }
 },
 "nbformat": 4,
 "nbformat_minor": 2
}
