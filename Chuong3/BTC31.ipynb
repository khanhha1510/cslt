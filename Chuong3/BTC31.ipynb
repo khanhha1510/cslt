{
 "cells": [
  {
   "attachments": {},
   "cell_type": "markdown",
   "metadata": {},
   "source": [
    "3.1"
   ]
  },
  {
   "cell_type": "code",
   "execution_count": 7,
   "metadata": {},
   "outputs": [
    {
     "name": "stdout",
     "output_type": "stream",
     "text": [
      "SLN= 7.0\n",
      "SBN= 5.0\n"
     ]
    }
   ],
   "source": [
    "a = float(input('a='))\n",
    "b = float(input('b='))\n",
    "c = float(input('c='))\n",
    "\n",
    "max = a\n",
    "min = b\n",
    "\n",
    "if max < b:\n",
    "    max = b\n",
    "elif max < c:\n",
    "    max = c\n",
    "    \n",
    "if min > a:\n",
    "    min = a\n",
    "elif min > c:\n",
    "    min = c\n",
    "    \n",
    "print('SLN=', max)\n",
    "print('SBN=', min)"
   ]
  },
  {
   "attachments": {},
   "cell_type": "markdown",
   "metadata": {},
   "source": [
    "3.2"
   ]
  },
  {
   "cell_type": "code",
   "execution_count": 11,
   "metadata": {},
   "outputs": [
    {
     "name": "stdout",
     "output_type": "stream",
     "text": [
      "So tien= 0\n"
     ]
    }
   ],
   "source": [
    "a = int(input('So may='))\n",
    "\n",
    "if a > 5:\n",
    "    t = a*450\n",
    "elif a < 5:\n",
    "    t = a*500\n",
    "    \n",
    "print('So tien=',t)"
   ]
  },
  {
   "attachments": {},
   "cell_type": "markdown",
   "metadata": {},
   "source": [
    "3.3"
   ]
  },
  {
   "cell_type": "code",
   "execution_count": 18,
   "metadata": {},
   "outputs": [
    {
     "name": "stdout",
     "output_type": "stream",
     "text": [
      "Phai tra= 16150.0\n"
     ]
    }
   ],
   "source": [
    "a = int(input('Tieu thu='))\n",
    "\n",
    "if 1 <= a <= 100:\n",
    "    t = 550\n",
    "elif 101 <= a <= 150:\n",
    "    t = 750\n",
    "elif 151 <= a <= 200:\n",
    "    t = 950\n",
    "else:\n",
    "    t = 1350\n",
    "    \n",
    "print('Phai tra=', a*t*0.1)"
   ]
  },
  {
   "cell_type": "code",
   "execution_count": null,
   "metadata": {},
   "outputs": [],
   "source": []
  },
  {
   "cell_type": "code",
   "execution_count": null,
   "metadata": {},
   "outputs": [],
   "source": []
  }
 ],
 "metadata": {
  "kernelspec": {
   "display_name": "Python 3",
   "language": "python",
   "name": "python3"
  },
  "language_info": {
   "codemirror_mode": {
    "name": "ipython",
    "version": 3
   },
   "file_extension": ".py",
   "mimetype": "text/x-python",
   "name": "python",
   "nbconvert_exporter": "python",
   "pygments_lexer": "ipython3",
   "version": "3.11.1"
  },
  "orig_nbformat": 4,
  "vscode": {
   "interpreter": {
    "hash": "108095e740c160118120ad5e22811b4aca9f414a6f3c55c969835bc2c10848d1"
   }
  }
 },
 "nbformat": 4,
 "nbformat_minor": 2
}
