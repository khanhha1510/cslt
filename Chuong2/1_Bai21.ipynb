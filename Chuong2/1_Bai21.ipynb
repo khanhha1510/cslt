{
 "cells": [
  {
   "attachments": {},
   "cell_type": "markdown",
   "metadata": {},
   "source": [
    "### 2.1"
   ]
  },
  {
   "cell_type": "code",
   "execution_count": 24,
   "metadata": {},
   "outputs": [
    {
     "name": "stdout",
     "output_type": "stream",
     "text": [
      "Chao ban kh\n"
     ]
    }
   ],
   "source": [
    "a = input('Nhap ho ten:')\n",
    "print('Chao ban', a)"
   ]
  },
  {
   "attachments": {},
   "cell_type": "markdown",
   "metadata": {},
   "source": [
    "### 2.2"
   ]
  },
  {
   "cell_type": "code",
   "execution_count": 3,
   "metadata": {},
   "outputs": [
    {
     "name": "stdout",
     "output_type": "stream",
     "text": [
      "Dien tich cua duong tron co ban kinh 15 la = 706.5\n",
      "Chu vi cua duong tron co ban kinh 15 la = 94.2\n"
     ]
    }
   ],
   "source": [
    "a = int(input('Nhap vao ban kinh cua duong tron:'))\n",
    "print('Dien tich cua duong tron co ban kinh', a, 'la =', round(3.14*a**2, 2))\n",
    "print('Chu vi cua duong tron co ban kinh', a, 'la =', round(2*3.14*a, 2))"
   ]
  },
  {
   "attachments": {},
   "cell_type": "markdown",
   "metadata": {},
   "source": [
    "2.3"
   ]
  },
  {
   "cell_type": "code",
   "execution_count": 21,
   "metadata": {},
   "outputs": [
    {
     "name": "stdout",
     "output_type": "stream",
     "text": [
      "Nhap hai canh ke cua tam giac vuong:\n",
      "Canh ke thu nhat la: 5, canh ke thu hai: 10, co canh huyen =11.18\n"
     ]
    }
   ],
   "source": [
    "import math \n",
    "\n",
    "print('Nhap hai canh ke cua tam giac vuong:')\n",
    "a = int(input())\n",
    "b = int(input())\n",
    "print('Canh ke thu nhat la: ', a,', canh ke thu hai: ', b,', co canh huyen =', round(math.sqrt(a**2+b**2), 2), sep='')"
   ]
  },
  {
   "attachments": {},
   "cell_type": "markdown",
   "metadata": {},
   "source": [
    "2.4"
   ]
  },
  {
   "cell_type": "code",
   "execution_count": 11,
   "metadata": {},
   "outputs": [
    {
     "name": "stdout",
     "output_type": "stream",
     "text": [
      "Tong= 16.0\n",
      "Trung binh cong = 4.0\n"
     ]
    }
   ],
   "source": [
    "a = int(input('a='))\n",
    "b = int(input('b='))\n",
    "c = int(input('c='))\n",
    "d = int(input('d='))\n",
    "print('Tong=', float(a+b+c+d))\n",
    "print('Trung binh cong =', float((a+b+c+d)/4))"
   ]
  },
  {
   "attachments": {},
   "cell_type": "markdown",
   "metadata": {},
   "source": [
    "2.5"
   ]
  },
  {
   "cell_type": "code",
   "execution_count": 20,
   "metadata": {},
   "outputs": [
    {
     "name": "stdout",
     "output_type": "stream",
     "text": [
      "Voi so tien ban dau 100, sau 10 thang gui, lai suat 0.05/ thang\n",
      "Thi so tien nhan duoc cuoi ky la: 150.0\n"
     ]
    }
   ],
   "source": [
    "n = int(input('So tien ban dau:'))\n",
    "k = int(input('So thang gui:'))\n",
    "T = float(input('Lai suat/ thang:'))\n",
    "print('Voi so tien ban dau ', a, ',', ' sau ',b,' thang gui, lai suat ',c,'/ thang', sep='')\n",
    "print('Thi so tien nhan duoc cuoi ky la:', float(n*(1+k*T)))"
   ]
  },
  {
   "attachments": {},
   "cell_type": "markdown",
   "metadata": {},
   "source": [
    "2.6"
   ]
  },
  {
   "cell_type": "code",
   "execution_count": 23,
   "metadata": {},
   "outputs": [
    {
     "name": "stdout",
     "output_type": "stream",
     "text": [
      "Nhan vien An, Co tien Luong=500.0, Tam ung=150 va Thuc linh=350.0\n"
     ]
    }
   ],
   "source": [
    "a = input('Ho ten:')\n",
    "b = int(input('So ngay cong:'))\n",
    "c = int(input('Don gia ngay cong:'))\n",
    "d = float(input('He so phu cap:'))\n",
    "e = int(input('Tam ung:'))\n",
    "print('Nhan vien ',a, ', Co tien Luong=',c*b*d,', Tam ung=',e,' va Thuc linh=', (c*b*d)-e, sep = '')"
   ]
  },
  {
   "cell_type": "code",
   "execution_count": null,
   "metadata": {},
   "outputs": [],
   "source": []
  }
 ],
 "metadata": {
  "kernelspec": {
   "display_name": "Python 3",
   "language": "python",
   "name": "python3"
  },
  "language_info": {
   "codemirror_mode": {
    "name": "ipython",
    "version": 3
   },
   "file_extension": ".py",
   "mimetype": "text/x-python",
   "name": "python",
   "nbconvert_exporter": "python",
   "pygments_lexer": "ipython3",
   "version": "3.11.1"
  },
  "orig_nbformat": 4,
  "vscode": {
   "interpreter": {
    "hash": "108095e740c160118120ad5e22811b4aca9f414a6f3c55c969835bc2c10848d1"
   }
  }
 },
 "nbformat": 4,
 "nbformat_minor": 2
}
