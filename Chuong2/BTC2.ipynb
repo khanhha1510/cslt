{
 "cells": [
  {
   "attachments": {},
   "cell_type": "markdown",
   "metadata": {},
   "source": [
    "2.2"
   ]
  },
  {
   "cell_type": "code",
   "execution_count": 4,
   "metadata": {},
   "outputs": [
    {
     "name": "stdout",
     "output_type": "stream",
     "text": [
      "Gia ban: 90.9\n"
     ]
    }
   ],
   "source": [
    "a = int(input('Nhap Gia niem yet:'))\n",
    "b = int(input('Nhap Chiet khau:'))\n",
    "print('Gia ban:',(100-10+((100-10)*0.01)))"
   ]
  },
  {
   "attachments": {},
   "cell_type": "markdown",
   "metadata": {},
   "source": [
    "2.3"
   ]
  },
  {
   "cell_type": "code",
   "execution_count": null,
   "metadata": {},
   "outputs": [
    {
     "name": "stdout",
     "output_type": "stream",
     "text": [
      "Tien lanh cuoi ky: 1500.0\n"
     ]
    }
   ],
   "source": [
    "P = int(input('Tien dau tu ban dau:'))\n",
    "n = int(input('So thang gui:'))\n",
    "r = float(input('Lai suat moi thang:'))\n",
    "print('Tien lanh cuoi ky:', P*(1+r*n))"
   ]
  },
  {
   "attachments": {},
   "cell_type": "markdown",
   "metadata": {},
   "source": [
    "2.4"
   ]
  },
  {
   "cell_type": "code",
   "execution_count": 8,
   "metadata": {},
   "outputs": [
    {
     "name": "stdout",
     "output_type": "stream",
     "text": [
      "Dien tich=9.921567416492215\n"
     ]
    }
   ],
   "source": [
    "import math\n",
    "\n",
    "a = int(input('a='))\n",
    "b = int(input('b='))\n",
    "c = int(input('c='))\n",
    "s=(a+b+c)/2\n",
    "print('Dien tich=', math.sqrt(s*(s-a)*(s-b)*(s-c)),sep='')"
   ]
  },
  {
   "cell_type": "code",
   "execution_count": null,
   "metadata": {},
   "outputs": [],
   "source": []
  }
 ],
 "metadata": {
  "kernelspec": {
   "display_name": "Python 3",
   "language": "python",
   "name": "python3"
  },
  "language_info": {
   "codemirror_mode": {
    "name": "ipython",
    "version": 3
   },
   "file_extension": ".py",
   "mimetype": "text/x-python",
   "name": "python",
   "nbconvert_exporter": "python",
   "pygments_lexer": "ipython3",
   "version": "3.11.1"
  },
  "orig_nbformat": 4,
  "vscode": {
   "interpreter": {
    "hash": "108095e740c160118120ad5e22811b4aca9f414a6f3c55c969835bc2c10848d1"
   }
  }
 },
 "nbformat": 4,
 "nbformat_minor": 2
}
